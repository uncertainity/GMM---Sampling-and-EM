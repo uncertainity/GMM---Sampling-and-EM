{
  "nbformat": 4,
  "nbformat_minor": 0,
  "metadata": {
    "colab": {
      "name": "GMM_tf.ipynb",
      "provenance": [],
      "collapsed_sections": [],
      "authorship_tag": "ABX9TyO0N8rirAftboIApnzb3Ra5",
      "include_colab_link": true
    },
    "kernelspec": {
      "name": "python3",
      "display_name": "Python 3"
    },
    "language_info": {
      "name": "python"
    }
  },
  "cells": [
    {
      "cell_type": "markdown",
      "metadata": {
        "id": "view-in-github",
        "colab_type": "text"
      },
      "source": [
        "<a href=\"https://colab.research.google.com/github/uncertainity/GMM---Sampling-and-EM/blob/main/GMM_tf.ipynb\" target=\"_parent\"><img src=\"https://colab.research.google.com/assets/colab-badge.svg\" alt=\"Open In Colab\"/></a>"
      ]
    },
    {
      "cell_type": "code",
      "execution_count": 1,
      "metadata": {
        "id": "CaQSgcOvM3mx"
      },
      "outputs": [],
      "source": [
        "import tensorflow as tf\n",
        "import tensorflow_probability as tfp\n",
        "import numpy as np\n",
        "import matplotlib.pyplot as plt\n",
        "from sklearn.cluster import KMeans\n",
        "\n",
        "tfd = tfp.distributions\n",
        "tfb = tfp.bijectors"
      ]
    },
    {
      "cell_type": "code",
      "source": [
        "gmm = tfd.MixtureSameFamily(\n",
        "      mixture_distribution=tfd.Categorical(probs=[0.3, 0.7]),\n",
        "      components_distribution=tfd.MultivariateNormalDiag(loc=[[-1., 1],[2.,1.]],scale_diag=[[0.5, 0.5],[0.5, 0.5]]))"
      ],
      "metadata": {
        "id": "88-34AJvM-Pz"
      },
      "execution_count": 2,
      "outputs": []
    },
    {
      "cell_type": "code",
      "source": [
        "#gmm = tfd.MixtureSameFamily(\n",
        "#      mixture_distribution=tfd.Categorical(probs=[0.3, 0.7]),\n",
        "#      components_distribution=tfd.Normal(loc = [-1,1],scale = [0.2,0.8]))"
      ],
      "metadata": {
        "id": "mndbXJYWuwNO"
      },
      "execution_count": null,
      "outputs": []
    },
    {
      "cell_type": "code",
      "source": [
        "sample = gmm.sample(100)\n",
        "print(sample.shape)\n",
        "if sample.ndim == 2:\n",
        "  plt.scatter(sample[...,0],sample[...,1])"
      ],
      "metadata": {
        "colab": {
          "base_uri": "https://localhost:8080/",
          "height": 282
        },
        "id": "K--9ADTBM-Ry",
        "outputId": "105df91a-5526-43e7-dcd5-dd1d829fc965"
      },
      "execution_count": 3,
      "outputs": [
        {
          "output_type": "stream",
          "name": "stdout",
          "text": [
            "(100, 2)\n"
          ]
        },
        {
          "output_type": "display_data",
          "data": {
            "text/plain": [
              "<Figure size 432x288 with 1 Axes>"
            ],
            "image/png": "[encoded data removed]"
          },
          "metadata": {
            "needs_background": "light"
          }
        }
      ]
    },
    {
      "cell_type": "code",
      "source": [
        "k = sample.numpy()\n",
        "if k.ndim == 1:\n",
        "  k = k.reshape(k.shape[0],1)\n",
        "print(k.shape)"
      ],
      "metadata": {
        "colab": {
          "base_uri": "https://localhost:8080/"
        },
        "id": "Wkf2QY1zyBr6",
        "outputId": "1356df6c-a790-42e0-92d3-85f9dca54457"
      },
      "execution_count": 4,
      "outputs": [
        {
          "output_type": "stream",
          "name": "stdout",
          "text": [
            "(100, 2)\n"
          ]
        }
      ]
    },
    {
      "cell_type": "code",
      "source": [
        "# Trying to find out the number of clusters bu automating the elbow rule #\n",
        "def predict_num_clusters(x,d = 4.5):\n",
        "  wcss = []\n",
        "  threshold = 0\n",
        "  n_components = 0\n",
        "  for i in range(1,7):\n",
        "    kmeans = KMeans(i)\n",
        "    kmeans.fit(x)\n",
        "    wcss_iter = kmeans.inertia_\n",
        "    if i == 1:\n",
        "      threshold = wcss_iter/d\n",
        "    wcss.append(wcss_iter)\n",
        "    if wcss_iter < threshold:\n",
        "      n_components = i\n",
        "      break\n",
        "  number_clusters = range(1,n_components+1)\n",
        "  print(wcss)\n",
        "  plt.plot(number_clusters,wcss)\n",
        "  plt.title('The Elbow title')\n",
        "  plt.xlabel('Number of clusters')\n",
        "  plt.ylabel('WCSS')\n",
        "  return n_components"
      ],
      "metadata": {
        "id": "NWAYWi_KQyRh"
      },
      "execution_count": 5,
      "outputs": []
    },
    {
      "cell_type": "code",
      "source": [
        "n_components = predict_num_clusters(sample)\n",
        "print(\"No of components:\",n_components)"
      ],
      "metadata": {
        "colab": {
          "base_uri": "https://localhost:8080/",
          "height": 330
        },
        "id": "DE-t8AXGTPNm",
        "outputId": "1195c84c-ace1-4781-b5c1-092d952712ef"
      },
      "execution_count": 6,
      "outputs": [
        {
          "output_type": "stream",
          "name": "stdout",
          "text": [
            "[241.3046384203112, 44.644326814657646]\n",
            "No of components: 2\n"
          ]
        },
        {
          "output_type": "display_data",
          "data": {
            "text/plain": [
              "<Figure size 432x288 with 1 Axes>"
            ],
            "image/png": "[encoded data removed]"
          },
          "metadata": {
            "needs_background": "light"
          }
        }
      ]
    },
    {
      "cell_type": "code",
      "source": [
        "## Defining the initial parameters using Kmeans clustering ##\n",
        "def initialize_params(x):\n",
        "  n_components = predict_num_clusters(x)\n",
        "  x = sample.numpy()\n",
        "  if x.ndim == 1:\n",
        "    x = x.reshape(x.shape[0],1)\n",
        "  kmeans = KMeans(n_components)\n",
        "  f = kmeans.fit_predict(x)\n",
        "  centres = kmeans.cluster_centers_.tolist()\n",
        "  variance = []\n",
        "  probs = []\n",
        "  for c in range(n_components):\n",
        "    mask = np.zeros(x.shape[0])\n",
        "    idx = np.where(f == c)[0]\n",
        "    x_mask = np.zeros((x.shape[1],idx.shape[0]))\n",
        "    k = 0\n",
        "    for id in idx:\n",
        "      x_mask[:,k] = x[id]\n",
        "      k += 1\n",
        "    variance.append(np.cov(x_mask))\n",
        "    probs.append(idx.shape[0]/x.shape[0])\n",
        "  initial_params = [probs,centres,variance]\n",
        "  print(\"n_components:\",n_components)\n",
        "  print(\"Initial Parameters:\")\n",
        "  print(initial_params)\n",
        "  \n",
        "  return initial_params,n_components\n"
      ],
      "metadata": {
        "id": "_NzCqCYeM-T0"
      },
      "execution_count": 11,
      "outputs": []
    },
    {
      "cell_type": "code",
      "source": [
        "def prob_x_given_z(x,dist):\n",
        "  return dist.prob(x)\n",
        "\n",
        "def prob_z(z,dist):\n",
        "  return dist.prob(z)"
      ],
      "metadata": {
        "id": "maAzTyZdS1ho"
      },
      "execution_count": 12,
      "outputs": []
    },
    {
      "cell_type": "code",
      "source": [
        "## Calculating the resposibility matrix ##\n",
        "def responsibility_matrix(x,dist_x_given_z_list,dist_z,n_components):\n",
        "  res_matrix = np.zeros((n_components,x.shape[0]))\n",
        "  for component in range(n_components):\n",
        "    dist_x_given_z = dist_x_given_z_list[component]\n",
        "    n = prob_x_given_z(x.numpy(),dist_x_given_z)*prob_z(component,dist_z).numpy()\n",
        "    res_matrix[component] = n.numpy()\n",
        "  d = np.sum(res_matrix,axis = 0)\n",
        "  res_matrix = res_matrix/d\n",
        "  return res_matrix"
      ],
      "metadata": {
        "id": "S_yeOA_MS37G"
      },
      "execution_count": 13,
      "outputs": []
    },
    {
      "cell_type": "code",
      "source": [
        "## Defining the initial distributions using cluster mean and variance ##\n",
        "def initialize_dist(x,params,n_components):\n",
        "  prob_ = params[0]\n",
        "  mu_= params[1]\n",
        "  covariance_matrix_ = params[2]\n",
        "  dist_x_given_z_list = []\n",
        "  dist_z = tfd.Categorical(probs = prob_)\n",
        "  for component in range(n_components):\n",
        "    if x.ndim == 1:\n",
        "      dist = tfd.Normal(loc = mu_[component],scale = covariance_matrix_[component])\n",
        "    else:\n",
        "      dist = tfd.MultivariateNormalTriL(loc = mu_[component],scale_tril = tf.linalg.cholesky(covariance_matrix_[component]))\n",
        "    dist_x_given_z_list.append(dist)\n",
        "  res_matrix = responsibility_matrix(x,dist_x_given_z_list,dist_z,n_components)\n",
        "  return dist_x_given_z_list,dist_z,res_matrix"
      ],
      "metadata": {
        "id": "aF-L5-qzM-X7"
      },
      "execution_count": 14,
      "outputs": []
    },
    {
      "cell_type": "code",
      "source": [
        "initial_params,n_components = initialize_params(sample)"
      ],
      "metadata": {
        "colab": {
          "base_uri": "https://localhost:8080/",
          "height": 399
        },
        "id": "gb-ikeqxR3u1",
        "outputId": "35a2543a-2c7f-444d-fafb-d1d5b76451a7"
      },
      "execution_count": 15,
      "outputs": [
        {
          "output_type": "stream",
          "name": "stdout",
          "text": [
            "[241.3046384203112, 44.644326814657646]\n",
            "n_components: 2\n",
            "Initial Parameters:\n",
            "[[0.68, 0.32], [[2.010395050048828, 0.9791465997695923], [-0.9946774244308472, 0.8940652012825012]], [array([[ 0.19275285, -0.02057903],\n",
            "       [-0.02057903,  0.30013049]]), array([[ 0.15133659, -0.06479264],\n",
            "       [-0.06479264,  0.22353899]])]]\n"
          ]
        },
        {
          "output_type": "display_data",
          "data": {
            "text/plain": [
              "<Figure size 432x288 with 1 Axes>"
            ],
            "image/png": "[encoded data removed]"
          },
          "metadata": {
            "needs_background": "light"
          }
        }
      ]
    },
    {
      "cell_type": "code",
      "source": [
        "# Initial Mean #\n",
        "initial_params[1]"
      ],
      "metadata": {
        "colab": {
          "base_uri": "https://localhost:8080/"
        },
        "id": "-C439RuaSLWa",
        "outputId": "0cf0f091-fc56-4e99-e322-4124b83015fd"
      },
      "execution_count": 16,
      "outputs": [
        {
          "output_type": "execute_result",
          "data": {
            "text/plain": [
              "[[2.010395050048828, 0.9791465997695923],\n",
              " [-0.9946774244308472, 0.8940652012825012]]"
            ]
          },
          "metadata": {},
          "execution_count": 16
        }
      ]
    },
    {
      "cell_type": "code",
      "source": [
        "# Initial Variance #\n",
        "initial_params[2]"
      ],
      "metadata": {
        "colab": {
          "base_uri": "https://localhost:8080/"
        },
        "id": "fRnAOUnSGjYQ",
        "outputId": "00e01526-22a0-4761-a49f-74fff90ce6ec"
      },
      "execution_count": 17,
      "outputs": [
        {
          "output_type": "execute_result",
          "data": {
            "text/plain": [
              "[array([[ 0.19275285, -0.02057903],\n",
              "        [-0.02057903,  0.30013049]]), array([[ 0.15133659, -0.06479264],\n",
              "        [-0.06479264,  0.22353899]])]"
            ]
          },
          "metadata": {},
          "execution_count": 17
        }
      ]
    },
    {
      "cell_type": "code",
      "source": [
        "def update_params(x,res_matrix,n_components):\n",
        "  x_t = x.numpy().transpose()\n",
        "  if x_t.ndim == 1:\n",
        "    x_t = x_t.reshape(1,x_t.shape[0])\n",
        "  d = np.sum(res_matrix,axis = 1)\n",
        "  prob_ = list(d/np.sum(d))\n",
        "  mu_ = []\n",
        "  covariance_matrix_ = []\n",
        "  for component in range(n_components):\n",
        "    m = np.sum(x_t*res_matrix[component],axis = 1)/d[component]\n",
        "    mu_.append(list(m))\n",
        "    m = m.reshape(x_t.shape[0],1)\n",
        "    n = ((x_t - m)*res_matrix[component])@(x_t - m).transpose()\n",
        "    covariance_matrix_.append(n/d[component])\n",
        "  new_params = [prob_,mu_,covariance_matrix_]\n",
        "  return new_params"
      ],
      "metadata": {
        "id": "m4wP2Vl6apDD"
      },
      "execution_count": 18,
      "outputs": []
    },
    {
      "cell_type": "code",
      "source": [
        "def expectation_maximization(sample,epochs = 200):\n",
        "  initial_params,n_components = initialize_params(sample)\n",
        "  dist_x_given_z_list,dist_z,res_matrix = initialize_dist(sample,initial_params,n_components)\n",
        "  for i in range(50):\n",
        "    new_params = update_params(sample,res_matrix,n_components)\n",
        "    dist_x_given_z_list,dist_z,res_matrix = initialize_dist(sample,new_params,n_components)\n",
        "  return dist_x_given_z_list,dist_z\n",
        "  #print(dist_z.probs)\n"
      ],
      "metadata": {
        "id": "oMtz68RKbk8D"
      },
      "execution_count": 19,
      "outputs": []
    },
    {
      "cell_type": "code",
      "source": [
        "dist_x_given_z_list,dist_z = expectation_maximization(sample)"
      ],
      "metadata": {
        "colab": {
          "base_uri": "https://localhost:8080/",
          "height": 399
        },
        "id": "1OAPYM8v55v6",
        "outputId": "7fafec47-eb3a-4b58-9099-f38aadd936bc"
      },
      "execution_count": 20,
      "outputs": [
        {
          "output_type": "stream",
          "name": "stdout",
          "text": [
            "[241.3046384203112, 44.644326814657646]\n",
            "n_components: 2\n",
            "Initial Parameters:\n",
            "[[0.68, 0.32], [[2.010395050048828, 0.9791465997695923], [-0.9946774244308472, 0.8940652012825012]], [array([[ 0.19275285, -0.02057903],\n",
            "       [-0.02057903,  0.30013049]]), array([[ 0.15133659, -0.06479264],\n",
            "       [-0.06479264,  0.22353899]])]]\n"
          ]
        },
        {
          "output_type": "display_data",
          "data": {
            "text/plain": [
              "<Figure size 432x288 with 1 Axes>"
            ],
            "image/png": "[encoded data removed]"
          },
          "metadata": {
            "needs_background": "light"
          }
        }
      ]
    },
    {
      "cell_type": "code",
      "source": [
        "print(dist_z.probs)"
      ],
      "metadata": {
        "colab": {
          "base_uri": "https://localhost:8080/"
        },
        "id": "Y_KLImtybKJ-",
        "outputId": "8b147e90-55bc-4542-fc08-3549c4117b67"
      },
      "execution_count": 21,
      "outputs": [
        {
          "output_type": "stream",
          "name": "stdout",
          "text": [
            "tf.Tensor([0.68000005 0.31999995], shape=(2,), dtype=float64)\n"
          ]
        }
      ]
    },
    {
      "cell_type": "code",
      "source": [
        "for i in range (len(dist_x_given_z_list)):\n",
        "  print(\"Cluster \",i,\"parameters:\")\n",
        "  print(\"Mean:\",dist_x_given_z_list[i].parameters[\"loc\"])\n",
        "  l = dist_x_given_z_list[i].parameters[\"scale_tril\"]\n",
        "  print(\"Variance:\",l@tf.transpose(l))"
      ],
      "metadata": {
        "colab": {
          "base_uri": "https://localhost:8080/"
        },
        "id": "F2d4jkV4tk6Z",
        "outputId": "fb1df459-cb5f-4338-be37-b4b679271237"
      },
      "execution_count": 23,
      "outputs": [
        {
          "output_type": "stream",
          "name": "stdout",
          "text": [
            "Cluster  0 parameters:\n",
            "Mean: ListWrapper([2.0103949204677094, 0.9791465408242753])\n",
            "Variance: tf.Tensor(\n",
            "[[ 0.18991861 -0.02027627]\n",
            " [-0.02027627  0.29571686]], shape=(2, 2), dtype=float64)\n",
            "Cluster  1 parameters:\n",
            "Mean: ListWrapper([-0.9946772743749605, 0.8940653143448865])\n",
            "Variance: tf.Tensor(\n",
            "[[ 0.14660729 -0.0627678 ]\n",
            " [-0.0627678   0.21655329]], shape=(2, 2), dtype=float64)\n"
          ]
        }
      ]
    },
    {
      "cell_type": "code",
      "source": [
        ""
      ],
      "metadata": {
        "id": "njEcLT4stSS9"
      },
      "execution_count": null,
      "outputs": []
    },
    {
      "cell_type": "code",
      "source": [
        ""
      ],
      "metadata": {
        "id": "ElYAmaN6tSVK"
      },
      "execution_count": null,
      "outputs": []
    },
    {
      "cell_type": "code",
      "source": [
        ""
      ],
      "metadata": {
        "id": "sU1SqQ6AtSXT"
      },
      "execution_count": null,
      "outputs": []
    },
    {
      "cell_type": "code",
      "source": [
        ""
      ],
      "metadata": {
        "id": "jO_eq9ZatSZ0"
      },
      "execution_count": null,
      "outputs": []
    },
    {
      "cell_type": "code",
      "source": [
        ""
      ],
      "metadata": {
        "id": "HKHWkeU5tSdO"
      },
      "execution_count": null,
      "outputs": []
    },
    {
      "cell_type": "code",
      "source": [
        ""
      ],
      "metadata": {
        "id": "03dzhfzaM-cE"
      },
      "execution_count": null,
      "outputs": []
    },
    {
      "cell_type": "code",
      "source": [
        ""
      ],
      "metadata": {
        "id": "kKRoymDsM-eW"
      },
      "execution_count": null,
      "outputs": []
    },
    {
      "cell_type": "code",
      "source": [
        ""
      ],
      "metadata": {
        "id": "FBk1Tx5lM-hy"
      },
      "execution_count": null,
      "outputs": []
    }
  ]
}